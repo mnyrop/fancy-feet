{
 "cells": [
  {
   "cell_type": "code",
   "execution_count": 1,
   "id": "641e1c35",
   "metadata": {},
   "outputs": [],
   "source": [
    "import pandas as pd"
   ]
  },
  {
   "cell_type": "code",
   "execution_count": 2,
   "id": "5c041f58",
   "metadata": {},
   "outputs": [],
   "source": [
    "ESPN_FILE    = 'data/espnsuperflexppr.csv'\n",
    "RINGER_FILE  = 'data/ringerppr.csv'\n",
    "RESULTS_FILE = 'results.csv'"
   ]
  },
  {
   "cell_type": "code",
   "execution_count": 3,
   "id": "2c467662",
   "metadata": {},
   "outputs": [],
   "source": [
    "espn_rankings   = pd.read_csv(ESPN_FILE, header='infer')\n",
    "ringer_rankings = pd.read_csv(RINGER_FILE, header='infer')"
   ]
  },
  {
   "cell_type": "code",
   "execution_count": 4,
   "id": "ca407562",
   "metadata": {},
   "outputs": [],
   "source": [
    "espn_rankings['ESPN'] = espn_rankings.index"
   ]
  },
  {
   "cell_type": "code",
   "execution_count": 5,
   "id": "9c15aa2b",
   "metadata": {},
   "outputs": [
    {
     "data": {
      "text/html": [
       "<div>\n",
       "<style scoped>\n",
       "    .dataframe tbody tr th:only-of-type {\n",
       "        vertical-align: middle;\n",
       "    }\n",
       "\n",
       "    .dataframe tbody tr th {\n",
       "        vertical-align: top;\n",
       "    }\n",
       "\n",
       "    .dataframe thead th {\n",
       "        text-align: right;\n",
       "    }\n",
       "</style>\n",
       "<table border=\"1\" class=\"dataframe\">\n",
       "  <thead>\n",
       "    <tr style=\"text-align: right;\">\n",
       "      <th></th>\n",
       "      <th>Name</th>\n",
       "      <th>Team</th>\n",
       "      <th>ESPN</th>\n",
       "    </tr>\n",
       "  </thead>\n",
       "  <tbody>\n",
       "    <tr>\n",
       "      <th>0</th>\n",
       "      <td>Josh Allen</td>\n",
       "      <td>BUF</td>\n",
       "      <td>0</td>\n",
       "    </tr>\n",
       "    <tr>\n",
       "      <th>1</th>\n",
       "      <td>Patrick Mahomes</td>\n",
       "      <td>KC</td>\n",
       "      <td>1</td>\n",
       "    </tr>\n",
       "    <tr>\n",
       "      <th>2</th>\n",
       "      <td>Justin Herbert</td>\n",
       "      <td>LAC</td>\n",
       "      <td>2</td>\n",
       "    </tr>\n",
       "    <tr>\n",
       "      <th>3</th>\n",
       "      <td>Jonathan Taylor</td>\n",
       "      <td>IND</td>\n",
       "      <td>3</td>\n",
       "    </tr>\n",
       "    <tr>\n",
       "      <th>4</th>\n",
       "      <td>Lamar Jackson</td>\n",
       "      <td>BAL</td>\n",
       "      <td>4</td>\n",
       "    </tr>\n",
       "  </tbody>\n",
       "</table>\n",
       "</div>"
      ],
      "text/plain": [
       "              Name  Team  ESPN\n",
       "0       Josh Allen   BUF     0\n",
       "1  Patrick Mahomes    KC     1\n",
       "2   Justin Herbert   LAC     2\n",
       "3  Jonathan Taylor   IND     3\n",
       "4    Lamar Jackson   BAL     4"
      ]
     },
     "execution_count": 5,
     "metadata": {},
     "output_type": "execute_result"
    }
   ],
   "source": [
    "espn_rankings.head()"
   ]
  },
  {
   "cell_type": "code",
   "execution_count": 6,
   "id": "e5c0ae6d",
   "metadata": {},
   "outputs": [
    {
     "data": {
      "text/html": [
       "<div>\n",
       "<style scoped>\n",
       "    .dataframe tbody tr th:only-of-type {\n",
       "        vertical-align: middle;\n",
       "    }\n",
       "\n",
       "    .dataframe tbody tr th {\n",
       "        vertical-align: top;\n",
       "    }\n",
       "\n",
       "    .dataframe thead th {\n",
       "        text-align: right;\n",
       "    }\n",
       "</style>\n",
       "<table border=\"1\" class=\"dataframe\">\n",
       "  <thead>\n",
       "    <tr style=\"text-align: right;\">\n",
       "      <th></th>\n",
       "      <th>Name</th>\n",
       "      <th>Position</th>\n",
       "      <th>Team</th>\n",
       "      <th>Bye</th>\n",
       "      <th>Ringer</th>\n",
       "    </tr>\n",
       "  </thead>\n",
       "  <tbody>\n",
       "    <tr>\n",
       "      <th>0</th>\n",
       "      <td>Christian McCaffrey</td>\n",
       "      <td>RB</td>\n",
       "      <td>CAR</td>\n",
       "      <td>13</td>\n",
       "      <td>1.0</td>\n",
       "    </tr>\n",
       "    <tr>\n",
       "      <th>1</th>\n",
       "      <td>Jonathan Taylor</td>\n",
       "      <td>RB</td>\n",
       "      <td>IND</td>\n",
       "      <td>14</td>\n",
       "      <td>2.0</td>\n",
       "    </tr>\n",
       "    <tr>\n",
       "      <th>2</th>\n",
       "      <td>Justin Jefferson</td>\n",
       "      <td>WR</td>\n",
       "      <td>MIN</td>\n",
       "      <td>7</td>\n",
       "      <td>3.0</td>\n",
       "    </tr>\n",
       "    <tr>\n",
       "      <th>3</th>\n",
       "      <td>Cooper Kupp</td>\n",
       "      <td>WR</td>\n",
       "      <td>LAR</td>\n",
       "      <td>7</td>\n",
       "      <td>4.0</td>\n",
       "    </tr>\n",
       "    <tr>\n",
       "      <th>4</th>\n",
       "      <td>Austin Ekeler</td>\n",
       "      <td>RB</td>\n",
       "      <td>LAC</td>\n",
       "      <td>8</td>\n",
       "      <td>5.0</td>\n",
       "    </tr>\n",
       "  </tbody>\n",
       "</table>\n",
       "</div>"
      ],
      "text/plain": [
       "                  Name Position Team  Bye  Ringer\n",
       "0  Christian McCaffrey       RB  CAR   13     1.0\n",
       "1      Jonathan Taylor       RB  IND   14     2.0\n",
       "2     Justin Jefferson       WR  MIN    7     3.0\n",
       "3          Cooper Kupp       WR  LAR    7     4.0\n",
       "4        Austin Ekeler       RB  LAC    8     5.0"
      ]
     },
     "execution_count": 6,
     "metadata": {},
     "output_type": "execute_result"
    }
   ],
   "source": [
    "ringer_rankings.head()"
   ]
  },
  {
   "cell_type": "code",
   "execution_count": 7,
   "id": "ca0b34b6",
   "metadata": {},
   "outputs": [],
   "source": [
    "results = espn_rankings.set_index('Name').join(ringer_rankings.set_index('Name'))"
   ]
  },
  {
   "cell_type": "code",
   "execution_count": 8,
   "id": "ccd927da",
   "metadata": {},
   "outputs": [],
   "source": [
    "results.dropna(inplace=True)\n",
    "results['Ringer'] = results['Ringer'].astype(int)\n",
    "results['Bye'] = results['Bye'].astype(int)"
   ]
  },
  {
   "cell_type": "code",
   "execution_count": 9,
   "id": "dafc41a9",
   "metadata": {},
   "outputs": [
    {
     "data": {
      "text/html": [
       "<div>\n",
       "<style scoped>\n",
       "    .dataframe tbody tr th:only-of-type {\n",
       "        vertical-align: middle;\n",
       "    }\n",
       "\n",
       "    .dataframe tbody tr th {\n",
       "        vertical-align: top;\n",
       "    }\n",
       "\n",
       "    .dataframe thead th {\n",
       "        text-align: right;\n",
       "    }\n",
       "</style>\n",
       "<table border=\"1\" class=\"dataframe\">\n",
       "  <thead>\n",
       "    <tr style=\"text-align: right;\">\n",
       "      <th></th>\n",
       "      <th>Team</th>\n",
       "      <th>ESPN</th>\n",
       "      <th>Position</th>\n",
       "      <th>Team</th>\n",
       "      <th>Bye</th>\n",
       "      <th>Ringer</th>\n",
       "    </tr>\n",
       "    <tr>\n",
       "      <th>Name</th>\n",
       "      <th></th>\n",
       "      <th></th>\n",
       "      <th></th>\n",
       "      <th></th>\n",
       "      <th></th>\n",
       "      <th></th>\n",
       "    </tr>\n",
       "  </thead>\n",
       "  <tbody>\n",
       "    <tr>\n",
       "      <th>Josh Allen</th>\n",
       "      <td>BUF</td>\n",
       "      <td>0</td>\n",
       "      <td>QB</td>\n",
       "      <td>BUF</td>\n",
       "      <td>7</td>\n",
       "      <td>44</td>\n",
       "    </tr>\n",
       "    <tr>\n",
       "      <th>Patrick Mahomes</th>\n",
       "      <td>KC</td>\n",
       "      <td>1</td>\n",
       "      <td>QB</td>\n",
       "      <td>KC</td>\n",
       "      <td>8</td>\n",
       "      <td>58</td>\n",
       "    </tr>\n",
       "    <tr>\n",
       "      <th>Justin Herbert</th>\n",
       "      <td>LAC</td>\n",
       "      <td>2</td>\n",
       "      <td>QB</td>\n",
       "      <td>LAC</td>\n",
       "      <td>8</td>\n",
       "      <td>54</td>\n",
       "    </tr>\n",
       "    <tr>\n",
       "      <th>Jonathan Taylor</th>\n",
       "      <td>IND</td>\n",
       "      <td>3</td>\n",
       "      <td>RB</td>\n",
       "      <td>IND</td>\n",
       "      <td>14</td>\n",
       "      <td>2</td>\n",
       "    </tr>\n",
       "    <tr>\n",
       "      <th>Lamar Jackson</th>\n",
       "      <td>BAL</td>\n",
       "      <td>4</td>\n",
       "      <td>QB</td>\n",
       "      <td>BAL</td>\n",
       "      <td>10</td>\n",
       "      <td>55</td>\n",
       "    </tr>\n",
       "  </tbody>\n",
       "</table>\n",
       "</div>"
      ],
      "text/plain": [
       "                 Team  ESPN Position Team  Bye  Ringer\n",
       "Name                                                  \n",
       "Josh Allen        BUF     0       QB  BUF    7      44\n",
       "Patrick Mahomes    KC     1       QB   KC    8      58\n",
       "Justin Herbert    LAC     2       QB  LAC    8      54\n",
       "Jonathan Taylor   IND     3       RB  IND   14       2\n",
       "Lamar Jackson     BAL     4       QB  BAL   10      55"
      ]
     },
     "execution_count": 9,
     "metadata": {},
     "output_type": "execute_result"
    }
   ],
   "source": [
    "results.head()"
   ]
  },
  {
   "cell_type": "code",
   "execution_count": null,
   "id": "852d1a0c",
   "metadata": {},
   "outputs": [],
   "source": []
  }
 ],
 "metadata": {
  "kernelspec": {
   "display_name": "Python 3 (ipykernel)",
   "language": "python",
   "name": "python3"
  },
  "language_info": {
   "codemirror_mode": {
    "name": "ipython",
    "version": 3
   },
   "file_extension": ".py",
   "mimetype": "text/x-python",
   "name": "python",
   "nbconvert_exporter": "python",
   "pygments_lexer": "ipython3",
   "version": "3.9.13"
  }
 },
 "nbformat": 4,
 "nbformat_minor": 5
}
